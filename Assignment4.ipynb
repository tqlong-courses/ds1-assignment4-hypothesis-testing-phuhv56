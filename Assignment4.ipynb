{
 "cells": [
  {
   "cell_type": "markdown",
   "metadata": {},
   "source": [
    "### Assignment 4 - Hypothesis Testing\n",
    "This assignment requires more individual learning than previous assignments - you are encouraged to check out the pandas documentation to find functions or methods you might not have used yet, or ask questions on Stack Overflow and tag them as pandas and python related. And of course, the discussion forums are open for interaction with your peers and the course staff.\n",
    "\n",
    "Definitions:\n",
    "\n",
    "A quarter is a specific three month period, Q1 is January through March, Q2 is April through June, Q3 is July through September, Q4 is October through December.\n",
    "A recession is defined as starting with two consecutive quarters of GDP decline, and ending with two consecutive quarters of GDP growth.\n",
    "A recession bottom is the quarter within a recession which had the lowest GDP.\n",
    "A university town is a city which has a high percentage of university students compared to the total population of the city.\n",
    "Hypothesis: University towns have their mean housing prices less effected by recessions. Run a t-test to compare the ratio of the mean price of houses in university towns the quarter before the recession starts compared to the recession bottom. (price_ratio=quarter_before_recession/recession_bottom)\n",
    "\n",
    "The following data files are available for this assignment:\n",
    "\n",
    "From the Zillow research data site there is housing data for the United States. In particular the datafile for all homes at a city level, City_Zhvi_AllHomes.csv, has median home sale prices at a fine grained level.\n",
    "From the Wikipedia page on college towns is a list of university towns in the United States which has been copy and pasted into the file university_towns.txt.\n",
    "From Bureau of Economic Analysis, US Department of Commerce, the GDP over time of the United States in current dollars (use the chained value in 2009 dollars), in quarterly intervals, in the file gdplev.xls. For this assignment, only look at GDP data from the first quarter of 2000 onward.\n",
    "Each function in this assignment below is worth 10%, with the exception of run_ttest(), which is worth 50%."
   ]
  },
  {
   "cell_type": "code",
   "execution_count": 2,
   "metadata": {},
   "outputs": [],
   "source": [
    "import pandas as pd\n",
    "import numpy as np\n",
    "from scipy.stats import ttest_ind"
   ]
  },
  {
   "cell_type": "code",
   "execution_count": 25,
   "metadata": {},
   "outputs": [],
   "source": [
    "# Use this dictionary to map state names to two letter acronyms\n",
    "states = {'OH': 'Ohio', 'KY': 'Kentucky', 'AS': 'American Samoa', 'NV': 'Nevada', 'WY': 'Wyoming', 'NA': 'National', 'AL': 'Alabama', 'MD': 'Maryland', 'AK': 'Alaska', 'UT': 'Utah', 'OR': 'Oregon', 'MT': 'Montana', 'IL': 'Illinois', 'TN': 'Tennessee', 'DC': 'District of Columbia', 'VT': 'Vermont', 'ID': 'Idaho', 'AR': 'Arkansas', 'ME': 'Maine', 'WA': 'Washington', 'HI': 'Hawaii', 'WI': 'Wisconsin', 'MI': 'Michigan', 'IN': 'Indiana', 'NJ': 'New Jersey', 'AZ': 'Arizona', 'GU': 'Guam', 'MS': 'Mississippi', 'PR': 'Puerto Rico', 'NC': 'North Carolina', 'TX': 'Texas', 'SD': 'South Dakota', 'MP': 'Northern Mariana Islands', 'IA': 'Iowa', 'MO': 'Missouri', 'CT': 'Connecticut', 'WV': 'West Virginia', 'SC': 'South Carolina', 'LA': 'Louisiana', 'KS': 'Kansas', 'NY': 'New York', 'NE': 'Nebraska', 'OK': 'Oklahoma', 'FL': 'Florida', 'CA': 'California', 'CO': 'Colorado', 'PA': 'Pennsylvania', 'DE': 'Delaware', 'NM': 'New Mexico', 'RI': 'Rhode Island', 'MN': 'Minnesota', 'VI': 'Virgin Islands', 'NH': 'New Hampshire', 'MA': 'Massachusetts', 'GA': 'Georgia', 'ND': 'North Dakota', 'VA': 'Virginia'}"
   ]
  },
  {
   "cell_type": "code",
   "execution_count": 215,
   "metadata": {},
   "outputs": [
    {
     "data": {
      "text/plain": [
       "(567, 1)"
      ]
     },
     "execution_count": 215,
     "metadata": {},
     "output_type": "execute_result"
    }
   ],
   "source": [
    "ut = pd.read_table('data/university_towns.txt', header=None)\n",
    "ut.shape\n"
   ]
  },
  {
   "cell_type": "code",
   "execution_count": 3,
   "metadata": {},
   "outputs": [
    {
     "data": {
      "text/html": [
       "<div>\n",
       "<style scoped>\n",
       "    .dataframe tbody tr th:only-of-type {\n",
       "        vertical-align: middle;\n",
       "    }\n",
       "\n",
       "    .dataframe tbody tr th {\n",
       "        vertical-align: top;\n",
       "    }\n",
       "\n",
       "    .dataframe thead th {\n",
       "        text-align: right;\n",
       "    }\n",
       "</style>\n",
       "<table border=\"1\" class=\"dataframe\">\n",
       "  <thead>\n",
       "    <tr style=\"text-align: right;\">\n",
       "      <th></th>\n",
       "      <th>RegionName</th>\n",
       "      <th>State</th>\n",
       "    </tr>\n",
       "  </thead>\n",
       "  <tbody>\n",
       "    <tr>\n",
       "      <th>0</th>\n",
       "      <td>Auburn</td>\n",
       "      <td>Alabama</td>\n",
       "    </tr>\n",
       "    <tr>\n",
       "      <th>1</th>\n",
       "      <td>Florence</td>\n",
       "      <td>Alabama</td>\n",
       "    </tr>\n",
       "    <tr>\n",
       "      <th>2</th>\n",
       "      <td>Jacksonville</td>\n",
       "      <td>Alabama</td>\n",
       "    </tr>\n",
       "    <tr>\n",
       "      <th>3</th>\n",
       "      <td>Livingston</td>\n",
       "      <td>Alabama</td>\n",
       "    </tr>\n",
       "    <tr>\n",
       "      <th>4</th>\n",
       "      <td>Montevallo</td>\n",
       "      <td>Alabama</td>\n",
       "    </tr>\n",
       "  </tbody>\n",
       "</table>\n",
       "</div>"
      ],
      "text/plain": [
       "     RegionName    State\n",
       "0        Auburn  Alabama\n",
       "1      Florence  Alabama\n",
       "2  Jacksonville  Alabama\n",
       "3    Livingston  Alabama\n",
       "4    Montevallo  Alabama"
      ]
     },
     "execution_count": 3,
     "metadata": {},
     "output_type": "execute_result"
    }
   ],
   "source": [
    "def get_list_of_university_towns():\n",
    "    map_region = {}\n",
    "    states = []\n",
    "    ut = pd.read_table('data/university_towns.txt', header=None)\n",
    "    \n",
    "    for index, row in ut.iterrows():\n",
    "        rowStr = row[0]\n",
    "        if 'edit' in rowStr:\n",
    "            states.append(rowStr[:rowStr.find('[')])\n",
    "        if 'edit' not in rowStr:\n",
    "            key = rowStr\n",
    "            map_region[rowStr] = states[-1]\n",
    "    \n",
    "    uni_town = pd.DataFrame(list(map_region.items()))\n",
    "    uni_town.columns = ['RegionName', 'State']\n",
    "    uni_town.RegionName = uni_town['RegionName'].apply(lambda x: x[:x.find(' (')])  \n",
    "    \n",
    "    uni_town.to_csv(\"data/university_towns.csv\")\n",
    "    return uni_town\n",
    "\n",
    "get_list_of_university_towns().head()"
   ]
  },
  {
   "cell_type": "code",
   "execution_count": 73,
   "metadata": {},
   "outputs": [
    {
     "data": {
      "text/plain": [
       "year.1                                       1947q3\n",
       "gdp in billions of current dollars.1          250.1\n",
       "gdp in billions of chained 2009 dollars.1    1930.3\n",
       "Name: 4, dtype: object"
      ]
     },
     "execution_count": 73,
     "metadata": {},
     "output_type": "execute_result"
    }
   ],
   "source": [
    "gdplev = pd.read_excel('data/gdplev.xls', skiprows=5,)\n",
    "gdplev.drop([0,1], inplace=True)\n",
    "gdplev.drop(['Unnamed: 3', 'Unnamed: 7'], axis=1,inplace=True)\n",
    "gdplev.columns = ['year', 'gdp in billions of current dollars', 'gdp in billions of chained 2009 dollars', 'year.1','gdp in billions of current dollars.1', 'gdp in billions of chained 2009 dollars.1']\n",
    "\n",
    "gdp_year = gdplev[['year', 'gdp in billions of current dollars', 'gdp in billions of chained 2009 dollars']]\n",
    "gdp_year = gdp_year.loc[gdp_year.year > 0]\n",
    "gdp_quarter = gdplev[['year.1','gdp in billions of current dollars.1', 'gdp in billions of chained 2009 dollars.1']]\n",
    "\n"
   ]
  },
  {
   "cell_type": "code",
   "execution_count": 4,
   "metadata": {},
   "outputs": [
    {
     "data": {
      "text/plain": [
       "'2008q3'"
      ]
     },
     "execution_count": 4,
     "metadata": {},
     "output_type": "execute_result"
    }
   ],
   "source": [
    "def get_recession_start():\n",
    "    gdplev = pd.read_excel('data/gdplev.xls', skiprows=219)\n",
    "    gdplev.drop(['Unnamed: 3', 'Unnamed: 7'], axis=1,inplace=True)\n",
    "    gdplev.columns = ['year', 'gdp in billions of current dollars', 'gdp in billions of chained 2009 dollars', 'year.1','gdp in billions of current dollars.1', 'gdp in billions of chained 2009 dollars.1']\n",
    "    gdp_quarter = gdplev[['year.1','gdp in billions of current dollars.1', 'gdp in billions of chained 2009 dollars.1']]\n",
    "    for i in range(2, len(gdp_quarter)):\n",
    "        if (gdp_quarter.iloc[i-2][1] > gdp_quarter.iloc[i-1][1]) and (gdp_quarter.iloc[i-1][1] > gdp_quarter.iloc[i][1]):\n",
    "            return gdp_quarter.iloc[i-2][0]\n",
    "get_recession_start()"
   ]
  },
  {
   "cell_type": "code",
   "execution_count": 5,
   "metadata": {},
   "outputs": [
    {
     "data": {
      "text/plain": [
       "'2009q2'"
      ]
     },
     "execution_count": 5,
     "metadata": {},
     "output_type": "execute_result"
    }
   ],
   "source": [
    "def get_recession_end():\n",
    "    gdplev = pd.read_excel('data/gdplev.xls', skiprows=219)\n",
    "    gdplev.drop(['Unnamed: 3', 'Unnamed: 7'], axis=1,inplace=True)\n",
    "    gdplev.columns = ['year', 'gdp in billions of current dollars', 'gdp in billions of chained 2009 dollars', 'quarter','gdp in billions of current dollars.1', 'gdp in billions of chained 2009 dollars.1']\n",
    "    gdp_quarter = gdplev[['quarter','gdp in billions of current dollars.1', 'gdp in billions of chained 2009 dollars.1']]\n",
    "    start = gdp_quarter.loc[gdp_quarter['quarter'] == get_recession_start()].index.values[0];\n",
    "    for i in range(start + 2, len(gdp_quarter)):\n",
    "        if (gdp_quarter.iloc[i-2][1] < gdp_quarter.iloc[i-1][1]) and (gdp_quarter.iloc[i-1][1] < gdp_quarter.iloc[i][1]):\n",
    "            return gdp_quarter.iloc[i-2][0]\n",
    "get_recession_end()"
   ]
  },
  {
   "cell_type": "code",
   "execution_count": 6,
   "metadata": {},
   "outputs": [
    {
     "data": {
      "text/plain": [
       "'2009q2'"
      ]
     },
     "execution_count": 6,
     "metadata": {},
     "output_type": "execute_result"
    }
   ],
   "source": [
    "def get_recession_bottom():\n",
    "    gdplev = pd.read_excel('data/gdplev.xls', skiprows=219)\n",
    "    gdplev.drop(['Unnamed: 3', 'Unnamed: 7'], axis=1,inplace=True)\n",
    "    gdplev.columns = ['year', 'gdp in billions of current dollars', 'gdp in billions of chained 2009 dollars', 'quarter','gdp in billions of current dollars.1', 'gdp in billions of chained 2009 dollars.1']\n",
    "    gdp_quarter = gdplev[['quarter','gdp in billions of current dollars.1', 'gdp in billions of chained 2009 dollars.1']]\n",
    "    start = gdp_quarter.loc[gdp_quarter['quarter'] == get_recession_start()].index.values[0];\n",
    "    end = gdp_quarter.loc[gdp_quarter['quarter'] == get_recession_end()].index.values[0];\n",
    "    \n",
    "    min_value = gdp_quarter.iloc[start:end+1]['gdp in billions of current dollars.1'].idxmin()\n",
    "    return gdp_quarter.iloc[min_value]['quarter']\n",
    "    \n",
    "get_recession_bottom()"
   ]
  },
  {
   "cell_type": "code",
   "execution_count": 8,
   "metadata": {},
   "outputs": [],
   "source": [
    "# Use this dictionary to map state names to two letter acronyms\n",
    "states = {'OH': 'Ohio', 'KY': 'Kentucky', 'AS': 'American Samoa', 'NV': 'Nevada', 'WY': 'Wyoming', 'NA': 'National', 'AL': 'Alabama', 'MD': 'Maryland', 'AK': 'Alaska', 'UT': 'Utah', 'OR': 'Oregon', 'MT': 'Montana', 'IL': 'Illinois', 'TN': 'Tennessee', 'DC': 'District of Columbia', 'VT': 'Vermont', 'ID': 'Idaho', 'AR': 'Arkansas', 'ME': 'Maine', 'WA': 'Washington', 'HI': 'Hawaii', 'WI': 'Wisconsin', 'MI': 'Michigan', 'IN': 'Indiana', 'NJ': 'New Jersey', 'AZ': 'Arizona', 'GU': 'Guam', 'MS': 'Mississippi', 'PR': 'Puerto Rico', 'NC': 'North Carolina', 'TX': 'Texas', 'SD': 'South Dakota', 'MP': 'Northern Mariana Islands', 'IA': 'Iowa', 'MO': 'Missouri', 'CT': 'Connecticut', 'WV': 'West Virginia', 'SC': 'South Carolina', 'LA': 'Louisiana', 'KS': 'Kansas', 'NY': 'New York', 'NE': 'Nebraska', 'OK': 'Oklahoma', 'FL': 'Florida', 'CA': 'California', 'CO': 'Colorado', 'PA': 'Pennsylvania', 'DE': 'Delaware', 'NM': 'New Mexico', 'RI': 'Rhode Island', 'MN': 'Minnesota', 'VI': 'Virgin Islands', 'NH': 'New Hampshire', 'MA': 'Massachusetts', 'GA': 'Georgia', 'ND': 'North Dakota', 'VA': 'Virginia'}\n",
    "\n",
    "def get_columns():\n",
    "    columns = ['RegionName', 'State']\n",
    "    for year in range(2000, 2017):\n",
    "        for quarter in range(1, 5):\n",
    "            columns.append(str(year) + '-0' + str(quarter));\n",
    "    return columns[:-1]\n"
   ]
  },
  {
   "cell_type": "code",
   "execution_count": 54,
   "metadata": {
    "scrolled": true
   },
   "outputs": [
    {
     "data": {
      "text/html": [
       "<div>\n",
       "<style scoped>\n",
       "    .dataframe tbody tr th:only-of-type {\n",
       "        vertical-align: middle;\n",
       "    }\n",
       "\n",
       "    .dataframe tbody tr th {\n",
       "        vertical-align: top;\n",
       "    }\n",
       "\n",
       "    .dataframe thead th {\n",
       "        text-align: right;\n",
       "    }\n",
       "</style>\n",
       "<table border=\"1\" class=\"dataframe\">\n",
       "  <thead>\n",
       "    <tr style=\"text-align: right;\">\n",
       "      <th></th>\n",
       "      <th></th>\n",
       "      <th>RegionName</th>\n",
       "      <th>State</th>\n",
       "      <th>2000-01</th>\n",
       "      <th>2000-02</th>\n",
       "      <th>2000-03</th>\n",
       "      <th>2000-04</th>\n",
       "      <th>2001-01</th>\n",
       "      <th>2001-02</th>\n",
       "      <th>2001-03</th>\n",
       "      <th>2001-04</th>\n",
       "      <th>...</th>\n",
       "      <th>2014-02</th>\n",
       "      <th>2014-03</th>\n",
       "      <th>2014-04</th>\n",
       "      <th>2015-01</th>\n",
       "      <th>2015-02</th>\n",
       "      <th>2015-03</th>\n",
       "      <th>2015-04</th>\n",
       "      <th>2016-01</th>\n",
       "      <th>2016-02</th>\n",
       "      <th>2016-03</th>\n",
       "    </tr>\n",
       "    <tr>\n",
       "      <th>State</th>\n",
       "      <th>RegionName</th>\n",
       "      <th></th>\n",
       "      <th></th>\n",
       "      <th></th>\n",
       "      <th></th>\n",
       "      <th></th>\n",
       "      <th></th>\n",
       "      <th></th>\n",
       "      <th></th>\n",
       "      <th></th>\n",
       "      <th></th>\n",
       "      <th></th>\n",
       "      <th></th>\n",
       "      <th></th>\n",
       "      <th></th>\n",
       "      <th></th>\n",
       "      <th></th>\n",
       "      <th></th>\n",
       "      <th></th>\n",
       "      <th></th>\n",
       "      <th></th>\n",
       "      <th></th>\n",
       "    </tr>\n",
       "  </thead>\n",
       "  <tbody>\n",
       "    <tr>\n",
       "      <th rowspan=\"5\" valign=\"top\">Alabama</th>\n",
       "      <th>Adamsville</th>\n",
       "      <td>Adamsville</td>\n",
       "      <td>Alabama</td>\n",
       "      <td>68700.0</td>\n",
       "      <td>69100.0</td>\n",
       "      <td>69300.0</td>\n",
       "      <td>69200.0</td>\n",
       "      <td>73000.0</td>\n",
       "      <td>73400.0</td>\n",
       "      <td>74000.0</td>\n",
       "      <td>74100.0</td>\n",
       "      <td>...</td>\n",
       "      <td>78700</td>\n",
       "      <td>78000</td>\n",
       "      <td>77200</td>\n",
       "      <td>71000</td>\n",
       "      <td>71500</td>\n",
       "      <td>72500</td>\n",
       "      <td>73000</td>\n",
       "      <td>73600</td>\n",
       "      <td>74100</td>\n",
       "      <td>74800</td>\n",
       "    </tr>\n",
       "    <tr>\n",
       "      <th>Alabaster</th>\n",
       "      <td>Alabaster</td>\n",
       "      <td>Alabama</td>\n",
       "      <td>121600.0</td>\n",
       "      <td>122300.0</td>\n",
       "      <td>122500.0</td>\n",
       "      <td>122800.0</td>\n",
       "      <td>123200.0</td>\n",
       "      <td>123000.0</td>\n",
       "      <td>123500.0</td>\n",
       "      <td>124200.0</td>\n",
       "      <td>...</td>\n",
       "      <td>146600</td>\n",
       "      <td>147000</td>\n",
       "      <td>147100</td>\n",
       "      <td>148800</td>\n",
       "      <td>148900</td>\n",
       "      <td>149000</td>\n",
       "      <td>149300</td>\n",
       "      <td>152800</td>\n",
       "      <td>153400</td>\n",
       "      <td>154200</td>\n",
       "    </tr>\n",
       "    <tr>\n",
       "      <th>Albertville</th>\n",
       "      <td>Albertville</td>\n",
       "      <td>Alabama</td>\n",
       "      <td>74300.0</td>\n",
       "      <td>74100.0</td>\n",
       "      <td>73500.0</td>\n",
       "      <td>72700.0</td>\n",
       "      <td>75700.0</td>\n",
       "      <td>75900.0</td>\n",
       "      <td>76100.0</td>\n",
       "      <td>76300.0</td>\n",
       "      <td>...</td>\n",
       "      <td>84100</td>\n",
       "      <td>84100</td>\n",
       "      <td>84000</td>\n",
       "      <td>88300</td>\n",
       "      <td>88400</td>\n",
       "      <td>88700</td>\n",
       "      <td>89100</td>\n",
       "      <td>91400</td>\n",
       "      <td>92000</td>\n",
       "      <td>92600</td>\n",
       "    </tr>\n",
       "    <tr>\n",
       "      <th>Arab</th>\n",
       "      <td>Arab</td>\n",
       "      <td>Alabama</td>\n",
       "      <td>84500.0</td>\n",
       "      <td>83900.0</td>\n",
       "      <td>82900.0</td>\n",
       "      <td>81900.0</td>\n",
       "      <td>83800.0</td>\n",
       "      <td>84200.0</td>\n",
       "      <td>84600.0</td>\n",
       "      <td>84800.0</td>\n",
       "      <td>...</td>\n",
       "      <td>112300</td>\n",
       "      <td>112700</td>\n",
       "      <td>113200</td>\n",
       "      <td>111100</td>\n",
       "      <td>110000</td>\n",
       "      <td>109400</td>\n",
       "      <td>109300</td>\n",
       "      <td>111000</td>\n",
       "      <td>109800</td>\n",
       "      <td>109300</td>\n",
       "    </tr>\n",
       "    <tr>\n",
       "      <th>Ardmore</th>\n",
       "      <td>Ardmore</td>\n",
       "      <td>Alabama</td>\n",
       "      <td>NaN</td>\n",
       "      <td>NaN</td>\n",
       "      <td>NaN</td>\n",
       "      <td>NaN</td>\n",
       "      <td>NaN</td>\n",
       "      <td>NaN</td>\n",
       "      <td>NaN</td>\n",
       "      <td>NaN</td>\n",
       "      <td>...</td>\n",
       "      <td>140000</td>\n",
       "      <td>140200</td>\n",
       "      <td>140500</td>\n",
       "      <td>142200</td>\n",
       "      <td>143300</td>\n",
       "      <td>144200</td>\n",
       "      <td>143700</td>\n",
       "      <td>142200</td>\n",
       "      <td>142500</td>\n",
       "      <td>143000</td>\n",
       "    </tr>\n",
       "  </tbody>\n",
       "</table>\n",
       "<p>5 rows × 69 columns</p>\n",
       "</div>"
      ],
      "text/plain": [
       "                      RegionName    State   2000-01   2000-02   2000-03  \\\n",
       "State   RegionName                                                        \n",
       "Alabama Adamsville    Adamsville  Alabama   68700.0   69100.0   69300.0   \n",
       "        Alabaster      Alabaster  Alabama  121600.0  122300.0  122500.0   \n",
       "        Albertville  Albertville  Alabama   74300.0   74100.0   73500.0   \n",
       "        Arab                Arab  Alabama   84500.0   83900.0   82900.0   \n",
       "        Ardmore          Ardmore  Alabama       NaN       NaN       NaN   \n",
       "\n",
       "                      2000-04   2001-01   2001-02   2001-03   2001-04  \\\n",
       "State   RegionName                                                      \n",
       "Alabama Adamsville    69200.0   73000.0   73400.0   74000.0   74100.0   \n",
       "        Alabaster    122800.0  123200.0  123000.0  123500.0  124200.0   \n",
       "        Albertville   72700.0   75700.0   75900.0   76100.0   76300.0   \n",
       "        Arab          81900.0   83800.0   84200.0   84600.0   84800.0   \n",
       "        Ardmore           NaN       NaN       NaN       NaN       NaN   \n",
       "\n",
       "                      ...     2014-02  2014-03  2014-04  2015-01  2015-02  \\\n",
       "State   RegionName    ...                                                   \n",
       "Alabama Adamsville    ...       78700    78000    77200    71000    71500   \n",
       "        Alabaster     ...      146600   147000   147100   148800   148900   \n",
       "        Albertville   ...       84100    84100    84000    88300    88400   \n",
       "        Arab          ...      112300   112700   113200   111100   110000   \n",
       "        Ardmore       ...      140000   140200   140500   142200   143300   \n",
       "\n",
       "                     2015-03  2015-04  2016-01  2016-02  2016-03  \n",
       "State   RegionName                                                \n",
       "Alabama Adamsville     72500    73000    73600    74100    74800  \n",
       "        Alabaster     149000   149300   152800   153400   154200  \n",
       "        Albertville    88700    89100    91400    92000    92600  \n",
       "        Arab          109400   109300   111000   109800   109300  \n",
       "        Ardmore       144200   143700   142200   142500   143000  \n",
       "\n",
       "[5 rows x 69 columns]"
      ]
     },
     "execution_count": 54,
     "metadata": {},
     "output_type": "execute_result"
    }
   ],
   "source": [
    "def convert_housing_data_to_quarters():\n",
    "    housing = pd.read_csv('data/City_Zhvi_AllHomes.csv')\n",
    "    housing = housing[get_columns()]\n",
    "    housing.State = housing.State.apply(lambda x: states[x])\n",
    "    housing = housing.sort_values(['State', 'RegionName']).reset_index()\n",
    "    housing.drop(['index'], axis=1,inplace=True)\n",
    "    housing.set_index(['State', 'RegionName'], drop=False, inplace=True)\n",
    "    return housing\n",
    "convert_housing_data_to_quarters().head()"
   ]
  },
  {
   "cell_type": "code",
   "execution_count": 60,
   "metadata": {},
   "outputs": [
    {
     "data": {
      "text/plain": [
       "(True, 9.942850139786513e-05, 'non-university town')"
      ]
     },
     "execution_count": 60,
     "metadata": {},
     "output_type": "execute_result"
    }
   ],
   "source": [
    "def run_ttest():\n",
    "    housing_data = convert_housing_data_to_quarters()\n",
    "    housing_region = convert_housing_data_to_quarters()['RegionName']\n",
    "    university_region = get_list_of_university_towns()['RegionName']\n",
    "    housing_data['is_university_town'] = housing_region.apply(lambda x: 1 if x in list(university_region) else 0)\n",
    "    \n",
    "    uni_town = housing_data.loc[housing_data.is_university_town == 1]\n",
    "    non_uni = housing_data.loc[housing_data.is_university_town == 0]\n",
    "\n",
    "    start = get_recession_start().replace('q', '-0')\n",
    "    bottom = get_recession_bottom().replace('q', '-0')\n",
    "    cols = [start, bottom, 'is_university_town']\n",
    "    h_data = housing_data[cols]\n",
    "    \n",
    "    uni_towns = h_data[h_data.is_university_town == 1].dropna()\n",
    "    non_uni_towns = h_data[h_data.is_university_town == 0].dropna()\n",
    "    \n",
    "    uni_towns['compare_value'] = uni_towns.apply(lambda row: (row[start] - row[bottom])/row[start],axis=1)\n",
    "    non_uni_towns['compare_value'] = non_uni_towns.apply(lambda row: (row[start] - row[bottom])/row[start],axis=1)\n",
    "    \n",
    "    mean_uni = uni_towns['compare_value'].mean()\n",
    "    mean_non_uni = non_uni_towns['compare_value'].mean()\n",
    "    \n",
    "    better = 'non-university town' if mean_uni < mean_non_uni else 'university town'\n",
    "    \n",
    "    ttest = ttest_ind(non_uni_towns['compare_value'], uni_towns['compare_value'])\n",
    "    return (ttest.pvalue < 0.01, ttest.pvalue, better)\n",
    "\n",
    "run_ttest()\n"
   ]
  }
 ],
 "metadata": {
  "kernelspec": {
   "display_name": "Python 3",
   "language": "python",
   "name": "python3"
  },
  "language_info": {
   "codemirror_mode": {
    "name": "ipython",
    "version": 3
   },
   "file_extension": ".py",
   "mimetype": "text/x-python",
   "name": "python",
   "nbconvert_exporter": "python",
   "pygments_lexer": "ipython3",
   "version": "3.6.4"
  }
 },
 "nbformat": 4,
 "nbformat_minor": 2
}
